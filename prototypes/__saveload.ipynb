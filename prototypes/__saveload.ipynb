{
 "cells": [
  {
   "cell_type": "code",
   "execution_count": 8,
   "metadata": {},
   "outputs": [],
   "source": [
    "from myutils.saveload import SaveLoad, NotLoaded\n",
    "\n",
    "import os"
   ]
  },
  {
   "cell_type": "code",
   "execution_count": 19,
   "metadata": {},
   "outputs": [],
   "source": [
    "# Testing\n",
    "import time\n",
    "filename = 'filename.txt'\n",
    "saveload = SaveLoad(filename)\n",
    "\n",
    "\n",
    "@saveload.load\n",
    "def load(target):\n",
    "    try:\n",
    "        with open(target, 'r') as f:\n",
    "            result = f.read()\n",
    "        return result\n",
    "    except FileNotFoundError as e:\n",
    "        raise NotLoaded()\n",
    "\n",
    "\n",
    "@saveload.create\n",
    "def creator():\n",
    "    return ''\n",
    "\n",
    "\n",
    "@saveload.save\n",
    "def saver(target, data):\n",
    "    with open(target, 'w') as f:\n",
    "        f.write(data)\n",
    "\n",
    "\n",
    "@saveload.process\n",
    "def process(data):\n",
    "    for i in range(10):\n",
    "        try:\n",
    "            data += f'{i}\\n'\n",
    "            time.sleep(.5)\n",
    "        except KeyboardInterrupt:\n",
    "            break\n",
    "    return data\n",
    "\n",
    "\n",
    "saveload.execute()\n",
    "\n",
    "assert os.path.exists(filename), 'File should exists'\n",
    "\n",
    "with open(filename, 'r') as f:\n",
    "    result = f.read()\n",
    "    assert result\n",
    "    for i, v in enumerate(map(int, result.rstrip().split('\\n'))):\n",
    "        assert i == v\n",
    "\n",
    "os.remove(filename)"
   ]
  }
 ],
 "metadata": {
  "interpreter": {
   "hash": "ee93ab964f2c19945f9a80ed5af29c90b927454f6aa3c787d7e423d60269585f"
  },
  "kernelspec": {
   "display_name": "Python 3.9.6 64-bit ('.env': venv)",
   "language": "python",
   "name": "python3"
  },
  "language_info": {
   "codemirror_mode": {
    "name": "ipython",
    "version": 3
   },
   "file_extension": ".py",
   "mimetype": "text/x-python",
   "name": "python",
   "nbconvert_exporter": "python",
   "pygments_lexer": "ipython3",
   "version": "3.9.6"
  },
  "orig_nbformat": 4
 },
 "nbformat": 4,
 "nbformat_minor": 2
}
